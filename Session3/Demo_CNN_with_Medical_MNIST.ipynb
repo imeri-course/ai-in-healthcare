{
 "cells": [
  {
   "cell_type": "code",
   "execution_count": 1,
   "metadata": {},
   "outputs": [],
   "source": [
    "import numpy as np\n",
    "import os\n",
    "import time\n",
    "%matplotlib inline\n",
    "import matplotlib.pyplot as mp\n",
    "\n",
    "import torch\n",
    "import torch.nn as nn\n",
    "import torch.nn.functional as F\n",
    "import torch.optim as om\n",
    "import torchvision as tv\n",
    "import torch.utils.data as dat\n",
    "\n",
    "if torch.cuda.is_available():     # Make sure GPU is available\n",
    "    dev = torch.device(\"cuda:0\")\n",
    "    kwar = {'num_workers': 8, 'pin_memory': True}\n",
    "    cpu = torch.device(\"cpu\")\n",
    "else:\n",
    "    print(\"Warning: CUDA not found, CPU only.\")\n",
    "    dev = torch.device(\"cpu\")\n",
    "    kwar = {}\n",
    "    cpu = torch.device(\"cpu\")\n",
    "\n",
    "np.random.seed(551)"
   ]
  },
  {
   "cell_type": "markdown",
   "metadata": {
    "toc": true
   },
   "source": [
    "<h1>Table of Contents<span class=\"tocSkip\"></span></h1>\n",
    "<div class=\"toc\"><ul class=\"toc-item\"><li><span><a href=\"#Outlines:\" data-toc-modified-id=\"Outlines:-1\"><span class=\"toc-item-num\">1&nbsp;&nbsp;</span>Outlines:</a></span></li><li><span><a href=\"#About-Medical-MNIST-Dataset\" data-toc-modified-id=\"About-Medical-MNIST-Dataset-2\"><span class=\"toc-item-num\">2&nbsp;&nbsp;</span>About Medical MNIST Dataset</a></span></li><li><span><a href=\"#Exploratory-Data-Analysis-(EDA)\" data-toc-modified-id=\"Exploratory-Data-Analysis-(EDA)-3\"><span class=\"toc-item-num\">3&nbsp;&nbsp;</span>Exploratory Data Analysis (EDA)</a></span><ul class=\"toc-item\"><li><span><a href=\"#Data-Info\" data-toc-modified-id=\"Data-Info-3.1\"><span class=\"toc-item-num\">3.1&nbsp;&nbsp;</span>Data Info</a></span></li><li><span><a href=\"#Check-Sample-Image\" data-toc-modified-id=\"Check-Sample-Image-3.2\"><span class=\"toc-item-num\">3.2&nbsp;&nbsp;</span>Check Sample Image</a></span></li></ul></li><li><span><a href=\"#Data-Preparation\" data-toc-modified-id=\"Data-Preparation-4\"><span class=\"toc-item-num\">4&nbsp;&nbsp;</span>Data Preparation</a></span><ul class=\"toc-item\"><li><span><a href=\"#Convert-to-dataframe\" data-toc-modified-id=\"Convert-to-dataframe-4.1\"><span class=\"toc-item-num\">4.1&nbsp;&nbsp;</span>Convert to dataframe</a></span></li><li><span><a href=\"#Split-to-Train,-Valid,-Test-data\" data-toc-modified-id=\"Split-to-Train,-Valid,-Test-data-4.2\"><span class=\"toc-item-num\">4.2&nbsp;&nbsp;</span>Split to Train, Valid, Test data</a></span><ul class=\"toc-item\"><li><span><a href=\"#Check-class-balance\" data-toc-modified-id=\"Check-class-balance-4.2.1\"><span class=\"toc-item-num\">4.2.1&nbsp;&nbsp;</span>Check class balance</a></span></li></ul></li><li><span><a href=\"#Check-mean,-std,-min-and-max-from-data-training\" data-toc-modified-id=\"Check-mean,-std,-min-and-max-from-data-training-4.3\"><span class=\"toc-item-num\">4.3&nbsp;&nbsp;</span>Check mean, std, min and max from data training</a></span></li><li><span><a href=\"#Create-Data-Abstraction\" data-toc-modified-id=\"Create-Data-Abstraction-4.4\"><span class=\"toc-item-num\">4.4&nbsp;&nbsp;</span>Create Data Abstraction</a></span></li><li><span><a href=\"#Create-Data-Transform-Pipeline\" data-toc-modified-id=\"Create-Data-Transform-Pipeline-4.5\"><span class=\"toc-item-num\">4.5&nbsp;&nbsp;</span>Create Data Transform Pipeline</a></span></li><li><span><a href=\"#Compose-all-to-DataLoader\" data-toc-modified-id=\"Compose-all-to-DataLoader-4.6\"><span class=\"toc-item-num\">4.6&nbsp;&nbsp;</span>Compose all to DataLoader</a></span></li></ul></li><li><span><a href=\"#Training-Preparation\" data-toc-modified-id=\"Training-Preparation-5\"><span class=\"toc-item-num\">5&nbsp;&nbsp;</span>Training Preparation</a></span><ul class=\"toc-item\"><li><span><a href=\"#Create-Model-Architecture\" data-toc-modified-id=\"Create-Model-Architecture-5.1\"><span class=\"toc-item-num\">5.1&nbsp;&nbsp;</span>Create Model Architecture</a></span></li><li><span><a href=\"#Set-training-Model\" data-toc-modified-id=\"Set-training-Model-5.2\"><span class=\"toc-item-num\">5.2&nbsp;&nbsp;</span>Set training Model</a></span></li><li><span><a href=\"#Set-Optimizer\" data-toc-modified-id=\"Set-Optimizer-5.3\"><span class=\"toc-item-num\">5.3&nbsp;&nbsp;</span>Set Optimizer</a></span></li><li><span><a href=\"#Set-Criterion\" data-toc-modified-id=\"Set-Criterion-5.4\"><span class=\"toc-item-num\">5.4&nbsp;&nbsp;</span>Set Criterion</a></span></li></ul></li><li><span><a href=\"#Training\" data-toc-modified-id=\"Training-6\"><span class=\"toc-item-num\">6&nbsp;&nbsp;</span>Training</a></span></li></ul></div>"
   ]
  },
  {
   "cell_type": "markdown",
   "metadata": {},
   "source": [
    "# Outlines:\n",
    "1. **About Medical MNIST Dataset**\n",
    "1. **Exploratory Data Analysis (EDA)**\n",
    "    1. Data Overview\n",
    "    1. Data Quality Checks\n",
    "    1. Correlation Matrix\n",
    "1. **Feature Engineering**\n",
    "    1. Choose Columns\n",
    "    1. Transforming the prediction target to numerical\n",
    "    1. Data Split (Train and Testing)\n",
    "    1. Data Preprocessing\n",
    "1. **Training CNN Model Using Pytorch Framework**\n",
    "    1. Convert dataset to dataloader\n",
    "    1. Create Model Blueprint\n",
    "    1. Construct the Network\n",
    "    1. Set Optimizer\n",
    "    1. Set Criterion\n",
    "    1. Training Process\n",
    "    1. Plot Results\n",
    "1. **Home Work Challenge**"
   ]
  },
  {
   "cell_type": "markdown",
   "metadata": {},
   "source": [
    "# About Medical MNIST Dataset\n",
    "\n",
    "This dataset is a simple MNIST-style medical images in 64x64 dimension;\n",
    "There were originaly taken from other datasets and processed into such style. There are 58954 medical images belonging to 6 classes.\n",
    "\n",
    "![Medical MNIST](https://www.googleapis.com/download/storage/v1/b/kaggle-user-content/o/inbox%2F793761%2F80e9bd2c92dbd64518c8f7be18d57b81%2FUntitled.png?generation=1587494186344589&alt=media)\n",
    "\n",
    "Resource Dataset : [Medical-MNIST-Classification](https://github.com/apolanco3225/Medical-MNIST-Classification%7D%7D)"
   ]
  },
  {
   "cell_type": "markdown",
   "metadata": {},
   "source": [
    "# Exploratory Data Analysis (EDA)"
   ]
  },
  {
   "cell_type": "markdown",
   "metadata": {},
   "source": [
    "## Data Info"
   ]
  },
  {
   "cell_type": "code",
   "execution_count": 2,
   "metadata": {},
   "outputs": [
    {
     "name": "stdout",
     "output_type": "stream",
     "text": [
      "There are 58954 images in 6 distinct categories\n",
      "Image Dimensions : 64 x 64\n",
      "Total image perclass:\n",
      "Label ChestCT   : 10000\n",
      "Label AbdomenCT : 10000\n",
      "Label HeadCT    : 10000\n",
      "Label BreastMRI : 8954\n",
      "Label CXR       : 10000\n",
      "Label Hand      : 10000\n"
     ]
    }
   ],
   "source": [
    "from pathlib import Path\n",
    "from PIL import Image\n",
    "ROOT_DATA = '/home/muchlisinadi/Documents/Projects/course/imeri/datasets/mednist'\n",
    "data_path = Path(ROOT_DATA)\n",
    "import random\n",
    "\n",
    "# get Class Name\n",
    "class_names = [d.name for d in data_path.iterdir()]\n",
    "\n",
    "# get number class\n",
    "num_class = len(class_names)\n",
    "\n",
    "# get all image_file\n",
    "image_files = list(data_path.rglob('*.jpeg'))\n",
    "\n",
    "# get all image perclass\n",
    "dict_file = {}\n",
    "for c in class_names:\n",
    "    dict_file[c] = list(data_path.rglob('{}/*.jpeg'.format(c)))\n",
    "\n",
    "# get image width and height\n",
    "image_width, image_height = Image.open(image_files[0]).size\n",
    "\n",
    "# print all\n",
    "print(f'There are {len(image_files)} images in {len(class_names)} distinct categories')\n",
    "print(f'Image Dimensions : {image_width} x {image_height}')\n",
    "print('Total image perclass:')\n",
    "for c in class_names:\n",
    "    print(\"Label {0:9} : {1}\".format(c,len(dict_file[c])))"
   ]
  },
  {
   "cell_type": "markdown",
   "metadata": {},
   "source": [
    "## Check Sample Image"
   ]
  },
  {
   "cell_type": "code",
   "execution_count": 3,
   "metadata": {},
   "outputs": [
    {
     "data": {
      "image/png": "[encoded data removed]",
      "text/plain": [
       "<Figure size 576x576 with 6 Axes>"
      ]
     },
     "metadata": {
      "needs_background": "light"
     },
     "output_type": "display_data"
    }
   ],
   "source": [
    "mp.subplots(2,3,figsize=(8,8))\n",
    "for i, c in enumerate(class_names):\n",
    "    im = Image.open(dict_file[c][random.randint(0, len(dict_file[c]))])\n",
    "    arr = np.array(im)\n",
    "    mp.subplot(2,3,i+1)\n",
    "    mp.xlabel(c)\n",
    "    mp.imshow(arr,cmap='gray',vmin=0,vmax=255)\n",
    "mp.tight_layout()\n",
    "mp.show()"
   ]
  },
  {
   "cell_type": "markdown",
   "metadata": {},
   "source": [
    "# Data Preparation"
   ]
  },
  {
   "cell_type": "markdown",
   "metadata": {},
   "source": [
    "## Convert to dataframe"
   ]
  },
  {
   "cell_type": "code",
   "execution_count": 4,
   "metadata": {},
   "outputs": [],
   "source": [
    "import pandas as pd\n",
    "\n",
    "# Convert data to list\n",
    "list_data = []\n",
    "for k, v in dict_file.items():\n",
    "    for f in v:\n",
    "        _dict = {'filename': f, 'class_name': k}\n",
    "        list_data.append(_dict)\n",
    "\n",
    "# To pandas dataframe\n",
    "df_file_class = pd.DataFrame(list_data)"
   ]
  },
  {
   "cell_type": "code",
   "execution_count": 5,
   "metadata": {},
   "outputs": [
    {
     "data": {
      "text/html": [
       "<div>\n",
       "<style scoped>\n",
       "    .dataframe tbody tr th:only-of-type {\n",
       "        vertical-align: middle;\n",
       "    }\n",
       "\n",
       "    .dataframe tbody tr th {\n",
       "        vertical-align: top;\n",
       "    }\n",
       "\n",
       "    .dataframe thead th {\n",
       "        text-align: right;\n",
       "    }\n",
       "</style>\n",
       "<table border=\"1\" class=\"dataframe\">\n",
       "  <thead>\n",
       "    <tr style=\"text-align: right;\">\n",
       "      <th></th>\n",
       "      <th>filename</th>\n",
       "      <th>class_name</th>\n",
       "    </tr>\n",
       "  </thead>\n",
       "  <tbody>\n",
       "    <tr>\n",
       "      <th>26775</th>\n",
       "      <td>/home/muchlisinadi/Documents/Projects/course/i...</td>\n",
       "      <td>HeadCT</td>\n",
       "    </tr>\n",
       "    <tr>\n",
       "      <th>53463</th>\n",
       "      <td>/home/muchlisinadi/Documents/Projects/course/i...</td>\n",
       "      <td>Hand</td>\n",
       "    </tr>\n",
       "    <tr>\n",
       "      <th>18441</th>\n",
       "      <td>/home/muchlisinadi/Documents/Projects/course/i...</td>\n",
       "      <td>AbdomenCT</td>\n",
       "    </tr>\n",
       "    <tr>\n",
       "      <th>15533</th>\n",
       "      <td>/home/muchlisinadi/Documents/Projects/course/i...</td>\n",
       "      <td>AbdomenCT</td>\n",
       "    </tr>\n",
       "    <tr>\n",
       "      <th>24877</th>\n",
       "      <td>/home/muchlisinadi/Documents/Projects/course/i...</td>\n",
       "      <td>HeadCT</td>\n",
       "    </tr>\n",
       "  </tbody>\n",
       "</table>\n",
       "</div>"
      ],
      "text/plain": [
       "                                                filename class_name\n",
       "26775  /home/muchlisinadi/Documents/Projects/course/i...     HeadCT\n",
       "53463  /home/muchlisinadi/Documents/Projects/course/i...       Hand\n",
       "18441  /home/muchlisinadi/Documents/Projects/course/i...  AbdomenCT\n",
       "15533  /home/muchlisinadi/Documents/Projects/course/i...  AbdomenCT\n",
       "24877  /home/muchlisinadi/Documents/Projects/course/i...     HeadCT"
      ]
     },
     "execution_count": 5,
     "metadata": {},
     "output_type": "execute_result"
    }
   ],
   "source": [
    "df_file_class.sample(5)"
   ]
  },
  {
   "cell_type": "markdown",
   "metadata": {},
   "source": [
    "## Split to Train, Valid, Test data\n",
    "To get data train, valid and testing we can splitting using sklearn train_test_split twice"
   ]
  },
  {
   "cell_type": "code",
   "execution_count": 6,
   "metadata": {},
   "outputs": [
    {
     "name": "stdout",
     "output_type": "stream",
     "text": [
      "Train/Valid/Test : 0.60%/0.20%/0.20%\n"
     ]
    }
   ],
   "source": [
    "from sklearn.model_selection import train_test_split\n",
    "\n",
    "# Split Dataset to train and validation\n",
    "df_train, df_valid = train_test_split(df_file_class, test_size=0.4)\n",
    "\n",
    "# Split data validation with data test\n",
    "df_valid, df_test = train_test_split(df_valid, test_size=0.5) # half from before\n",
    "\n",
    "# check data\n",
    "total_data = df_file_class.shape[0]\n",
    "print(\"Train/Valid/Test : {:0.2f}%/{:0.2f}%/{:0.2f}%\".format(df_train.shape[0]/total_data, df_valid.shape[0]/total_data, df_test.shape[0]/total_data))"
   ]
  },
  {
   "cell_type": "markdown",
   "metadata": {},
   "source": [
    "### Check class balance"
   ]
  },
  {
   "cell_type": "code",
   "execution_count": 7,
   "metadata": {},
   "outputs": [
    {
     "data": {
      "text/plain": [
       "class_name\n",
       "AbdomenCT    6012\n",
       "BreastMRI    5394\n",
       "CXR          5965\n",
       "ChestCT      5964\n",
       "Hand         6012\n",
       "HeadCT       6025\n",
       "dtype: int64"
      ]
     },
     "execution_count": 7,
     "metadata": {},
     "output_type": "execute_result"
    }
   ],
   "source": [
    "# Data Train\n",
    "df_train.groupby('class_name').size()"
   ]
  },
  {
   "cell_type": "code",
   "execution_count": 8,
   "metadata": {},
   "outputs": [
    {
     "data": {
      "text/plain": [
       "class_name\n",
       "AbdomenCT    1998\n",
       "BreastMRI    1802\n",
       "CXR          1969\n",
       "ChestCT      2028\n",
       "Hand         2033\n",
       "HeadCT       1961\n",
       "dtype: int64"
      ]
     },
     "execution_count": 8,
     "metadata": {},
     "output_type": "execute_result"
    }
   ],
   "source": [
    "# Data Validation\n",
    "df_valid.groupby('class_name').size()"
   ]
  },
  {
   "cell_type": "code",
   "execution_count": 9,
   "metadata": {},
   "outputs": [
    {
     "data": {
      "text/plain": [
       "class_name\n",
       "AbdomenCT    1990\n",
       "BreastMRI    1758\n",
       "CXR          2066\n",
       "ChestCT      2008\n",
       "Hand         1955\n",
       "HeadCT       2014\n",
       "dtype: int64"
      ]
     },
     "execution_count": 9,
     "metadata": {},
     "output_type": "execute_result"
    }
   ],
   "source": [
    "# Data Test\n",
    "df_test.groupby('class_name').size()"
   ]
  },
  {
   "cell_type": "markdown",
   "metadata": {},
   "source": [
    "## Check mean, std, min and max from data training"
   ]
  },
  {
   "cell_type": "code",
   "execution_count": 32,
   "metadata": {},
   "outputs": [
    {
     "name": "stderr",
     "output_type": "stream",
     "text": [
      "100%|██████████| 35372/35372 [00:26<00:00, 1315.33it/s]\n"
     ]
    }
   ],
   "source": [
    "from tqdm import tqdm\n",
    "from torchvision import transforms\n",
    "\n",
    "mean_list = []\n",
    "std_list = []\n",
    "max_list = []\n",
    "min_list = []\n",
    "toTensor = transforms.ToTensor()  # Convert from 0-255 to 0-1\n",
    "for i, row in tqdm(df_train.iterrows(), total=len(df_train)):\n",
    "    _im = Image.open(row['filename'])\n",
    "    _im = toTensor(_im)\n",
    "    mean_list.append(_im.mean())\n",
    "    std_list.append(_im.std())\n",
    "    max_list.append(_im.max())\n",
    "    min_list.append(_im.min())"
   ]
  },
  {
   "cell_type": "code",
   "execution_count": 33,
   "metadata": {},
   "outputs": [
    {
     "name": "stdout",
     "output_type": "stream",
     "text": [
      "mean: 0.35768333077430725, std: 0.201591357588768, min: 0.0, max: 1.0\n"
     ]
    }
   ],
   "source": [
    "avg_mean = np.array(mean_list).mean()\n",
    "avg_std = np.array(std_list).mean()\n",
    "min_data = np.array(min_list).min()\n",
    "max_data = np.array(max_list).max()\n",
    "print(f'mean: {avg_mean}, std: {avg_std}, min: {min_data}, max: {max_data}')"
   ]
  },
  {
   "cell_type": "markdown",
   "metadata": {},
   "source": [
    "## Create Data Abstraction"
   ]
  },
  {
   "cell_type": "code",
   "execution_count": 12,
   "metadata": {},
   "outputs": [],
   "source": [
    "from torch.utils.data import Dataset, DataLoader\n",
    "from torchvision import transforms\n",
    "from PIL import Image\n",
    "\n",
    "class MedicalMNIST(Dataset):\n",
    "    CLASS = {'HeadCT': 0, 'BreastMRI': 1, 'AbdomenCT':2, 'CXR':3, 'ChestCT':4, 'Hand':5}\n",
    "    \n",
    "    def __init__(self, df, transform=None):\n",
    "        self.df = df\n",
    "        self.transform = transform\n",
    "        \n",
    "    def __len__(self):\n",
    "        return len(self.df)\n",
    "    \n",
    "    def __getitem__(self, idx):\n",
    "        file_name = self.df.iloc[idx].filename\n",
    "        labels = self.df.iloc[idx].class_name\n",
    "        \n",
    "        # convert to class_id\n",
    "        labels = self.CLASS[labels]\n",
    "        \n",
    "        # load image using PIL\n",
    "        image = Image.open(file_name)\n",
    "        \n",
    "        # if any transform\n",
    "        if self.transform:\n",
    "            image = self.transform(image)\n",
    "            \n",
    "        return image, labels"
   ]
  },
  {
   "cell_type": "markdown",
   "metadata": {},
   "source": [
    "## Create Data Transform Pipeline"
   ]
  },
  {
   "cell_type": "code",
   "execution_count": 13,
   "metadata": {},
   "outputs": [],
   "source": [
    "# List transform pipeline\n",
    "_transform = []\n",
    "_transform.append(transforms.ToTensor()) # Convert (from 0-255 to 0-1) and tensor datatype\n",
    "_transform.append(transforms.Normalize(mean=(0.3577,), std=(0.2016,))) # normalize each data with predefine mean and std\n",
    "\n",
    "# compose all to one function\n",
    "transform = transforms.Compose(_transform)"
   ]
  },
  {
   "cell_type": "markdown",
   "metadata": {},
   "source": [
    "## Compose all to DataLoader\n",
    "Sometimes one epoch is too big to feed to the computer at once we divide it in several smaller batches. <br>\n",
    "`Epoch` = **One Epoch** is when an **ENTIRE dataset** is passed **forward** and **backward** through the neural network **only ONCE**. <br>\n",
    "`Batch Size` = Total number of training examples present **in a single batch**."
   ]
  },
  {
   "cell_type": "code",
   "execution_count": 14,
   "metadata": {},
   "outputs": [],
   "source": [
    "import torch\n",
    "import numpy as np\n",
    "from torch.utils.data import TensorDataset, DataLoader\n",
    "\n",
    "# Parameter batch_size\n",
    "train_batchsize = 100\n",
    "valid_batchsize = 100\n",
    "test_batchsize = 100\n",
    "\n",
    "# Construct pipeline\n",
    "train_dataset = MedicalMNIST(df_train, transform)\n",
    "valid_dataset = MedicalMNIST(df_valid, transform)\n",
    "test_dataset = MedicalMNIST(df_test, transform)\n",
    "\n",
    "# Create dataloader\n",
    "train_dataloader = DataLoader(train_dataset, batch_size=train_batchsize)\n",
    "valid_dataloader = DataLoader(valid_dataset, batch_size=valid_batchsize)\n",
    "test_dataloader = DataLoader(test_dataset, batch_size=test_batchsize)"
   ]
  },
  {
   "cell_type": "code",
   "execution_count": 15,
   "metadata": {},
   "outputs": [],
   "source": [
    "# get sample data\n",
    "examples = enumerate(train_dataloader)\n",
    "batch_idx, (example_data, example_targets) = next(examples)"
   ]
  },
  {
   "cell_type": "code",
   "execution_count": 16,
   "metadata": {},
   "outputs": [
    {
     "data": {
      "text/plain": [
       "0"
      ]
     },
     "execution_count": 16,
     "metadata": {},
     "output_type": "execute_result"
    }
   ],
   "source": [
    "batch_idx"
   ]
  },
  {
   "cell_type": "code",
   "execution_count": 17,
   "metadata": {},
   "outputs": [
    {
     "data": {
      "text/plain": [
       "torch.Size([100, 1, 64, 64])"
      ]
     },
     "execution_count": 17,
     "metadata": {},
     "output_type": "execute_result"
    }
   ],
   "source": [
    "example_data.shape"
   ]
  },
  {
   "cell_type": "code",
   "execution_count": 18,
   "metadata": {},
   "outputs": [
    {
     "data": {
      "text/plain": [
       "torch.Size([100])"
      ]
     },
     "execution_count": 18,
     "metadata": {},
     "output_type": "execute_result"
    }
   ],
   "source": [
    "example_targets.shape"
   ]
  },
  {
   "cell_type": "markdown",
   "metadata": {},
   "source": [
    "# Training Preparation"
   ]
  },
  {
   "cell_type": "markdown",
   "metadata": {},
   "source": [
    "## Create Model Architecture "
   ]
  },
  {
   "cell_type": "code",
   "execution_count": 19,
   "metadata": {},
   "outputs": [],
   "source": [
    "import torch.nn as nn\n",
    "import torch.nn.functional as F\n",
    "import torch.optim as optim\n",
    "import numpy as np"
   ]
  },
  {
   "cell_type": "code",
   "execution_count": 20,
   "metadata": {},
   "outputs": [],
   "source": [
    "class Net(nn.Module):\n",
    "    def __init__(self, output_class=6):\n",
    "        super(Net, self).__init__()\n",
    "        self.conv1 = nn.Conv2d(in_channels=1, out_channels=16, kernel_size=3, stride=1, padding=1)\n",
    "        self.conv2 = nn.Conv2d(in_channels=16, out_channels=20, kernel_size=3, stride=1, padding=1)\n",
    "        self.conv2_drop = nn.Dropout2d()\n",
    "        self.fc1 = nn.Linear(20*16*16, 50)\n",
    "        self.fc2 = nn.Linear(50, output_class)\n",
    "\n",
    "    def forward(self, x):\n",
    "        # first\n",
    "        x = self.conv1(x) # batch_size x 16 x 64 x 64\n",
    "        x = F.max_pool2d(x, 2) # batch_size x 16 x 32 x 32\n",
    "        x = F.relu(x)\n",
    "        \n",
    "        # second\n",
    "        x = self.conv2(x) # batch_size x 20 x 32 x 32\n",
    "        x = self.conv2_drop(x)\n",
    "        x = F.max_pool2d(x, 2) # batch_size x 20 x 16 x 16\n",
    "        x = F.relu(x)\n",
    "        \n",
    "        # linear\n",
    "        x = x.view(-1, 20*16*16)\n",
    "        x = self.fc1(x)\n",
    "        x = F.relu(x)\n",
    "        x = F.dropout(x, training=self.training)\n",
    "        x = self.fc2(x)\n",
    "        return F.log_softmax(x, dim=1)"
   ]
  },
  {
   "cell_type": "markdown",
   "metadata": {},
   "source": [
    "## Set training Model"
   ]
  },
  {
   "cell_type": "code",
   "execution_count": 21,
   "metadata": {},
   "outputs": [],
   "source": [
    "network = Net()\n",
    "\n",
    "# with Cuda Gpu Acceleration\n",
    "if torch.cuda.is_available():\n",
    "    network.cuda()"
   ]
  },
  {
   "cell_type": "markdown",
   "metadata": {},
   "source": [
    "## Set Optimizer\n",
    "- [Simple theory of Optimizers](https://medium.com/datadriveninvestor/overview-of-different-optimizers-for-neural-networks-e0ed119440c3)\n",
    "- [Torch optim doc](https://pytorch.org/docs/stable/optim.html)"
   ]
  },
  {
   "cell_type": "code",
   "execution_count": 22,
   "metadata": {},
   "outputs": [],
   "source": [
    "learning_rate = 0.001\n",
    "momentum = 0.2\n",
    "optimizer = optim.SGD(network.parameters(), lr=learning_rate, momentum=momentum)"
   ]
  },
  {
   "cell_type": "markdown",
   "metadata": {},
   "source": [
    "## Set Criterion\n",
    "- [a brief overview of loss function in pytorch](https://medium.com/udacity-pytorch-challengers/a-brief-overview-of-loss-functions-in-pytorch-c0ddb78068f7)"
   ]
  },
  {
   "cell_type": "code",
   "execution_count": 23,
   "metadata": {},
   "outputs": [],
   "source": [
    "criterion = nn.NLLLoss() #  nn.MSELoss() # nn.SmoothL1Loss() # nn.NLLLoss()"
   ]
  },
  {
   "cell_type": "markdown",
   "metadata": {},
   "source": [
    "# Training"
   ]
  },
  {
   "cell_type": "code",
   "execution_count": 24,
   "metadata": {},
   "outputs": [],
   "source": [
    "from tqdm import tqdm\n",
    "\n",
    "def get_accuracy(y_pred, y_test):\n",
    "    pred = y_pred.data.max(1, keepdim=True)[1]\n",
    "    total_true = pred.eq(y_test.data.view_as(pred)).sum().item()\n",
    "    return total_true/len(y_test)\n",
    "\n",
    "def one_epoch_train(idx_epoch, network, optimizer, data_loader):\n",
    "    \"\"\"\n",
    "    One Epoch Training Function\n",
    "    \"\"\"\n",
    "    # init arrays\n",
    "    acc_epoch = np.zeros(len(data_loader))\n",
    "    loss_epoch = np.zeros(len(data_loader))\n",
    "    \n",
    "    # Set to Train mode on\n",
    "    network.train() \n",
    "    # Start Training\n",
    "    pbar = tqdm(data_loader, desc=f\"train epoch {idx_epoch}\")\n",
    "    for batch_idx, (data, target) in enumerate(pbar):\n",
    "        \n",
    "        # Convert data and target to cuda datatype\n",
    "        if torch.cuda.is_available():\n",
    "            data = data.cuda()\n",
    "            target = target.cuda()\n",
    "        \n",
    "        # Main Training Process\n",
    "        optimizer.zero_grad() # Clear all Gradient in Optimizer\n",
    "        output = network(data) # Forward Propagation\n",
    "        loss = criterion(output, target) # Calculcate loss between forward result and target\n",
    "        loss.backward() # Backward Propagation\n",
    "        optimizer.step() # Update Gradient in Optimizer\n",
    "        \n",
    "        # Put loss and accuracy to arrays\n",
    "        loss_epoch[batch_idx] = loss.item()\n",
    "        acc_epoch[batch_idx] = get_accuracy(output, target)\n",
    "        \n",
    "        # Add loss and acc in progress bar\n",
    "        pbar.set_postfix(loss='{:0.4f}'.format(loss.item()), acc='{:0.4f}'.format(acc_epoch[batch_idx]))\n",
    "        \n",
    "    return loss_epoch, acc_epoch\n",
    "\n",
    "def one_epoch_test(idx_epoch, network, optimizer, data_loader):\n",
    "    \"\"\"\n",
    "    One Epoch Testing Function\n",
    "    \"\"\"\n",
    "    # init arrays\n",
    "    acc_epoch = np.zeros(len(data_loader))\n",
    "    loss_epoch = np.zeros(len(data_loader))\n",
    "    \n",
    "    # Set to Train mode of\n",
    "    network.eval()\n",
    "    \n",
    "    pbar = tqdm(data_loader, desc=f\"eval epoch {idx_epoch}\")\n",
    "    \n",
    "    # Should deactivate all gradient proccess\n",
    "    with torch.no_grad():\n",
    "        for batch_idx, (data, target) in enumerate(pbar):\n",
    "\n",
    "            # Convert data and target to cuda datatype\n",
    "            if torch.cuda.is_available():\n",
    "                data = data.cuda()\n",
    "                target = target.cuda()\n",
    "\n",
    "            # Main Training Process\n",
    "            output = network(data) # Only Forward Propagation\n",
    "            loss = criterion(output, target) # Calculcate loss between forward result and target\n",
    "\n",
    "            # Put loss and accuracy to arrays\n",
    "            loss_epoch[batch_idx] = loss.item()\n",
    "            acc_epoch[batch_idx] = get_accuracy(output, target)\n",
    "            \n",
    "            # Add loss and acc in progress bar\n",
    "            pbar.set_postfix(loss='{:0.4f}'.format(loss.item()), acc='{:0.4f}'.format(acc_epoch[batch_idx]))\n",
    "        \n",
    "    return loss_epoch.mean(), acc_epoch.sum()/len(data_loader)"
   ]
  },
  {
   "cell_type": "code",
   "execution_count": 25,
   "metadata": {},
   "outputs": [
    {
     "name": "stderr",
     "output_type": "stream",
     "text": [
      "train epoch 1: 100%|██████████| 354/354 [00:58<00:00,  6.09it/s, acc=0.6250, loss=1.1182]\n",
      "eval epoch 1: 100%|██████████| 118/118 [00:15<00:00,  7.56it/s, acc=0.8462, loss=0.9519]\n",
      "train epoch 2:   0%|          | 1/354 [00:00<00:55,  6.31it/s, acc=0.6000, loss=1.1847]"
     ]
    },
    {
     "name": "stdout",
     "output_type": "stream",
     "text": [
      "Train Epoch: 1/3 \t loss(train | valid): 1.521720 | 0.980267 \t acc(train|valid): 0.4582% | 0.7856%\n"
     ]
    },
    {
     "name": "stderr",
     "output_type": "stream",
     "text": [
      "train epoch 2: 100%|██████████| 354/354 [00:55<00:00,  6.43it/s, acc=0.8472, loss=0.5521]\n",
      "eval epoch 2: 100%|██████████| 118/118 [00:16<00:00,  7.29it/s, acc=0.9670, loss=0.3284]\n",
      "train epoch 3:   0%|          | 1/354 [00:00<00:55,  6.41it/s, acc=0.8500, loss=0.5798]"
     ]
    },
    {
     "name": "stdout",
     "output_type": "stream",
     "text": [
      "Train Epoch: 2/3 \t loss(train | valid): 0.807082 | 0.362719 \t acc(train|valid): 0.7582% | 0.9394%\n"
     ]
    },
    {
     "name": "stderr",
     "output_type": "stream",
     "text": [
      "train epoch 3: 100%|██████████| 354/354 [00:55<00:00,  6.37it/s, acc=0.9306, loss=0.3369]\n",
      "eval epoch 3: 100%|██████████| 118/118 [00:16<00:00,  7.17it/s, acc=0.9890, loss=0.1654]"
     ]
    },
    {
     "name": "stdout",
     "output_type": "stream",
     "text": [
      "Train Epoch: 3/3 \t loss(train | valid): 0.458990 | 0.198605 \t acc(train|valid): 0.8766% | 0.9631%\n"
     ]
    },
    {
     "name": "stderr",
     "output_type": "stream",
     "text": [
      "\n"
     ]
    }
   ],
   "source": [
    "n_epochs = 3\n",
    "log_interval = 1\n",
    "\n",
    "train_losses = []\n",
    "train_accs = []\n",
    "test_losses = []\n",
    "test_accs = []\n",
    "\n",
    "for idx_epoch in range(1, n_epochs+1):\n",
    "    train_loss, train_acc = one_epoch_train(idx_epoch ,network, optimizer, train_dataloader)\n",
    "    test_loss, test_acc = one_epoch_test(idx_epoch, network, optimizer, valid_dataloader)\n",
    "    \n",
    "    train_losses += list(train_loss)\n",
    "    train_accs += list(train_acc)\n",
    "    test_losses += [None]*(len(train_loss)-1) + [test_loss]\n",
    "    test_accs += [None]*(len(train_acc)-1) + [test_acc]\n",
    "    \n",
    "    if idx_epoch % log_interval == 0:\n",
    "        print('Train Epoch: {}/{} \\t loss(train | valid): {:.6f} | {:.6f} \\t acc(train|valid): {:.4f}% | {:.4f}%'.format(idx_epoch, n_epochs, train_loss.mean(), test_loss, train_acc.mean(), test_acc))"
   ]
  },
  {
   "cell_type": "code",
   "execution_count": 26,
   "metadata": {},
   "outputs": [],
   "source": [
    "import seaborn as sns\n",
    "import numpy as np\n",
    "import matplotlib.pyplot as plt\n",
    "sns.set(style=\"darkgrid\")\n",
    "\n",
    "def plot_(train, test=None, xlabel=\"epoch\", ylabel=\"loss\", title=\"Result Training\", rolling=20):\n",
    "    \"\"\"\n",
    "    Function for plot the result\n",
    "    \"\"\"\n",
    "    df = pd.DataFrame()\n",
    "    df['train'] = train\n",
    "    df = df.rolling(rolling).mean()\n",
    "    sns.lineplot(hue=\"region\", style=\"event\",data=df[['train']])\n",
    "    if test:\n",
    "        df['test'] = test\n",
    "        sns.scatterplot(data=df[['test']], palette=\"flag_r\")\n",
    "\n",
    "    # other info\n",
    "    plt.title(title)\n",
    "    plt.xlabel(xlabel)\n",
    "    plt.ylabel(ylabel)\n",
    "    plt.show()"
   ]
  },
  {
   "cell_type": "code",
   "execution_count": 27,
   "metadata": {},
   "outputs": [
    {
     "data": {
      "image/png": "[encoded data removed]",
      "text/plain": [
       "<Figure size 432x288 with 1 Axes>"
      ]
     },
     "metadata": {},
     "output_type": "display_data"
    }
   ],
   "source": [
    "# Check Loss\n",
    "plot_(train_losses, test_losses)"
   ]
  },
  {
   "cell_type": "code",
   "execution_count": 28,
   "metadata": {},
   "outputs": [
    {
     "data": {
      "image/png": "[encoded data removed]",
      "text/plain": [
       "<Figure size 432x288 with 1 Axes>"
      ]
     },
     "metadata": {},
     "output_type": "display_data"
    }
   ],
   "source": [
    "# Check accuracy\n",
    "plot_(train_accs, test_accs, ylabel=\"accuracy\")"
   ]
  },
  {
   "cell_type": "code",
   "execution_count": 29,
   "metadata": {},
   "outputs": [],
   "source": [
    "def predict(file, to_name=True):\n",
    "    \n",
    "    CLASS = {0:'HeadCT', 1:'BreastMRI', 2:'AbdomenCT', 3:'CXR', 4:'ChestCT', 5:'Hand'}\n",
    "    \n",
    "    im = Image.open(file)\n",
    "    im = transform(im).view(1,1,64,64)\n",
    "    \n",
    "    if torch.cuda.is_available():\n",
    "        network.cuda()\n",
    "        im = im.cuda()\n",
    "        \n",
    "    network.eval()\n",
    "    with torch.no_grad():\n",
    "        y_pred = network(im)\n",
    "        pred = y_pred.data.max(1, keepdim=True)[1]\n",
    "        \n",
    "    return CLASS[pred.item()] if to_name else pred.item()"
   ]
  },
  {
   "cell_type": "code",
   "execution_count": 31,
   "metadata": {},
   "outputs": [
    {
     "data": {
      "image/png": "[encoded data removed]",
      "text/plain": [
       "<Figure size 576x576 with 6 Axes>"
      ]
     },
     "metadata": {},
     "output_type": "display_data"
    }
   ],
   "source": [
    "mp.subplots(2,3,figsize=(8,8))\n",
    "for i, c in enumerate(class_names):\n",
    "    filename = df_test[df_test['class_name'] == c].sample().filename.values[0]\n",
    "    pred = predict(filename)\n",
    "    im = Image.open(filename)\n",
    "    arr = np.array(im)\n",
    "    mp.subplot(2,3,i+1)\n",
    "    mp.xlabel(f\"Pred: {pred}, \\nActual: {c}\")\n",
    "    mp.imshow(arr,cmap='gray',vmin=0,vmax=255)\n",
    "mp.tight_layout()\n",
    "mp.show()"
   ]
  }
 ],
 "metadata": {
  "kernelspec": {
   "display_name": "nlp",
   "language": "python",
   "name": "nlp"
  },
  "language_info": {
   "codemirror_mode": {
    "name": "ipython",
    "version": 3
   },
   "file_extension": ".py",
   "mimetype": "text/x-python",
   "name": "python",
   "nbconvert_exporter": "python",
   "pygments_lexer": "ipython3",
   "version": "3.6.10"
  },
  "toc": {
   "base_numbering": 1,
   "nav_menu": {},
   "number_sections": true,
   "sideBar": true,
   "skip_h1_title": false,
   "title_cell": "Table of Contents",
   "title_sidebar": "Contents",
   "toc_cell": true,
   "toc_position": {
    "height": "calc(100% - 180px)",
    "left": "10px",
    "top": "150px",
    "width": "355.188px"
   },
   "toc_section_display": true,
   "toc_window_display": true
  },
  "toc-autonumbering": false
 },
 "nbformat": 4,
 "nbformat_minor": 4
}
