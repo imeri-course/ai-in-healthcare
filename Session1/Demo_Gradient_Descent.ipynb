{
 "cells": [
  {
   "cell_type": "markdown",
   "metadata": {},
   "source": [
    "[![Open In Colab](https://colab.research.google.com/assets/colab-badge.svg)](https://colab.research.google.com/github/imeri-course/ai-in-healthcare/blob/master/Session1/Demo_Gradient_Descent.ipynb)"
   ]
  },
  {
   "cell_type": "markdown",
   "metadata": {},
   "source": [
    "# Practice Gradient Descent Using Pytorch Framework\n",
    "This notebook provide you about Gradient descent in pytorch as deeplearning framework"
   ]
  },
  {
   "cell_type": "markdown",
   "metadata": {},
   "source": [
    "## How is pytorch works ?\n",
    "![dynamic graph](https://cdn.analyticsvidhya.com/wp-content/uploads/2019/09/dynamic_graph.gif \"Title\")"
   ]
  },
  {
   "cell_type": "markdown",
   "metadata": {},
   "source": [
    "## Tensor\n",
    "### 1. How to make"
   ]
  },
  {
   "cell_type": "code",
   "execution_count": 17,
   "metadata": {},
   "outputs": [],
   "source": [
    "import torch \n",
    "import numpy as np"
   ]
  },
  {
   "cell_type": "code",
   "execution_count": 18,
   "metadata": {},
   "outputs": [
    {
     "data": {
      "text/plain": [
       "array([[ 0.32905955,  0.11502424,  0.09434615,  0.61545198, -0.5150339 ],\n",
       "       [ 0.23680987,  0.13434471, -0.30699594,  1.70868789,  0.3583368 ],\n",
       "       [-1.41226854,  0.6194407 , -0.29026047,  0.54121348,  0.202942  ]])"
      ]
     },
     "execution_count": 18,
     "metadata": {},
     "output_type": "execute_result"
    }
   ],
   "source": [
    "arr = np.random.randn(3,5)\n",
    "arr"
   ]
  },
  {
   "cell_type": "code",
   "execution_count": 19,
   "metadata": {},
   "outputs": [
    {
     "data": {
      "text/plain": [
       "tensor([[ 0.3291,  0.1150,  0.0943,  0.6155, -0.5150],\n",
       "        [ 0.2368,  0.1343, -0.3070,  1.7087,  0.3583],\n",
       "        [-1.4123,  0.6194, -0.2903,  0.5412,  0.2029]], dtype=torch.float64)"
      ]
     },
     "execution_count": 19,
     "metadata": {},
     "output_type": "execute_result"
    }
   ],
   "source": [
    "tens = torch.from_numpy(arr)\n",
    "tens"
   ]
  },
  {
   "cell_type": "code",
   "execution_count": 20,
   "metadata": {},
   "outputs": [
    {
     "data": {
      "text/plain": [
       "tensor([[2, 4],\n",
       "        [5, 6]])"
      ]
     },
     "execution_count": 20,
     "metadata": {},
     "output_type": "execute_result"
    }
   ],
   "source": [
    "another_tensor = torch.LongTensor([[2,4],[5,6]])\n",
    "another_tensor"
   ]
  },
  {
   "cell_type": "code",
   "execution_count": 21,
   "metadata": {},
   "outputs": [
    {
     "data": {
      "text/plain": [
       "tensor([[ 1.3452,  0.2372,  1.9607],\n",
       "        [ 0.5163, -1.0342,  0.4659],\n",
       "        [ 0.8233,  1.7400, -0.3184],\n",
       "        [ 0.7457,  1.2461,  2.0492]])"
      ]
     },
     "execution_count": 21,
     "metadata": {},
     "output_type": "execute_result"
    }
   ],
   "source": [
    "random_tensor = torch.randn((4,3))\n",
    "random_tensor"
   ]
  },
  {
   "cell_type": "markdown",
   "metadata": {},
   "source": [
    "## Example Graph"
   ]
  },
  {
   "cell_type": "markdown",
   "metadata": {},
   "source": [
    "### Build Computation Graphs\n",
    "Suppose, your model is described like this:\n",
    "```\n",
    "b = w1 * a\n",
    "c = w2 * a \n",
    "d = (w3 * b) + (w4 * c)\n",
    "L = f(d)\n",
    "```\n",
    "<!-- ![dynamic graph](https://miro.medium.com/max/842/1*FDL9Se9otGzz83F3rofQuA.png \"Title\") -->\n",
    "![dynamic graph](https://miro.medium.com/max/1061/1*40LF-3EKdsZsbTP5JmzVjQ.png \"Title\")\n",
    "\n"
   ]
  },
  {
   "cell_type": "markdown",
   "metadata": {},
   "source": [
    "### Chain rule compute gradients\n",
    "The computation graph is simply a data structure that allows you to efficiently apply the chain rule to compute gradients for all of your parameters.\n",
    "![dynamic graph](https://miro.medium.com/max/842/1*EWpoG5KayZSqkWmwM_wMFQ.png \"Title\")"
   ]
  },
  {
   "cell_type": "code",
   "execution_count": 29,
   "metadata": {},
   "outputs": [],
   "source": [
    "from torch import FloatTensor\n",
    "from torch.autograd import Variable"
   ]
  },
  {
   "cell_type": "markdown",
   "metadata": {},
   "source": [
    "![dynamic graph](https://iaml.it/blog/fun-with-pytorch-part-1/images/Variable.png \"Title\") <br>\n",
    "A variable is a small tensor's wrapper consisting of three major elements:\n",
    "\n",
    "- `v.data` references to the raw tensor;\n",
    "- `v.grad` accumulates the gradient computed on demand through the backward pass with respect to this variable;\n",
    "- `v.grad_fn` is used by PyTorch to link the root element of the computational graph containing the applied operations."
   ]
  },
  {
   "cell_type": "code",
   "execution_count": 121,
   "metadata": {},
   "outputs": [],
   "source": [
    "# Define the leaf nodes or input\n",
    "a = Variable(FloatTensor([4]))\n",
    "\n",
    "# Define the weights\n",
    "weights = [Variable(FloatTensor([i]), requires_grad=True) for i in (2, 5, 9, 7)]\n",
    "\n",
    "# unpack the weights for nicer assignment\n",
    "w1, w2, w3, w4 = weights\n",
    "\n",
    "b = w1 * a\n",
    "c = w2 * a\n",
    "d = w3 * b + w4 * c\n",
    "L = (10 - d)"
   ]
  },
  {
   "cell_type": "code",
   "execution_count": 122,
   "metadata": {},
   "outputs": [
    {
     "data": {
      "text/plain": [
       "tensor([2.], requires_grad=True)"
      ]
     },
     "execution_count": 122,
     "metadata": {},
     "output_type": "execute_result"
    }
   ],
   "source": [
    "w1"
   ]
  },
  {
   "cell_type": "code",
   "execution_count": 123,
   "metadata": {},
   "outputs": [
    {
     "data": {
      "text/plain": [
       "tensor([5.], requires_grad=True)"
      ]
     },
     "execution_count": 123,
     "metadata": {},
     "output_type": "execute_result"
    }
   ],
   "source": [
    "w2"
   ]
  },
  {
   "cell_type": "code",
   "execution_count": 124,
   "metadata": {},
   "outputs": [
    {
     "data": {
      "text/plain": [
       "tensor([-202.], grad_fn=<RsubBackward1>)"
      ]
     },
     "execution_count": 124,
     "metadata": {},
     "output_type": "execute_result"
    }
   ],
   "source": [
    "L"
   ]
  },
  {
   "cell_type": "markdown",
   "metadata": {},
   "source": [
    "### Calculate Gradient"
   ]
  },
  {
   "cell_type": "code",
   "execution_count": 125,
   "metadata": {},
   "outputs": [
    {
     "name": "stdout",
     "output_type": "stream",
     "text": [
      "*(w.r.t) with respect to\n",
      "Gradient of w1 w.r.t to L: -36.0\n",
      "Gradient of w2 w.r.t to L: -28.0\n",
      "Gradient of w3 w.r.t to L: -8.0\n",
      "Gradient of w4 w.r.t to L: -20.0\n"
     ]
    }
   ],
   "source": [
    "L.backward()\n",
    "print(\"*(w.r.t) with respect to\")\n",
    "for index, weight in enumerate(weights, start=1):\n",
    "    gradient, *_ = weight.grad.data\n",
    "    print(f\"Gradient of w{index} w.r.t to L: {gradient}\")"
   ]
  },
  {
   "cell_type": "markdown",
   "metadata": {},
   "source": [
    "### update the wieghts using GD\n",
    "```\n",
    "weight = weight - learning_rate * gradient\n",
    "```"
   ]
  },
  {
   "cell_type": "code",
   "execution_count": 126,
   "metadata": {},
   "outputs": [],
   "source": [
    "# manual GD\n",
    "learning_rate = 0.01"
   ]
  },
  {
   "cell_type": "code",
   "execution_count": 127,
   "metadata": {},
   "outputs": [],
   "source": [
    "# This \n",
    "w1.data = w1.data - learning_rate * w1.grad.data\n",
    "w2.data = w2.data - learning_rate * w2.grad.data\n",
    "w3.data = w3.data - learning_rate * w3.grad.data\n",
    "w4.data = w4.data - learning_rate * w4.grad.data"
   ]
  },
  {
   "cell_type": "code",
   "execution_count": 117,
   "metadata": {},
   "outputs": [
    {
     "data": {
      "text/plain": [
       "tensor([7.4000])"
      ]
     },
     "execution_count": 117,
     "metadata": {},
     "output_type": "execute_result"
    }
   ],
   "source": [
    "# Or This\n",
    "w1.data.sub_(w1.grad.data * learning_rate)\n",
    "w2.data.sub_(w2.grad.data * learning_rate)\n",
    "w3.data.sub_(w3.grad.data * learning_rate)\n",
    "w4.data.sub_(w4.grad.data * learning_rate)"
   ]
  },
  {
   "cell_type": "markdown",
   "metadata": {},
   "source": [
    "### **Important!** make gradient zero, after update weights"
   ]
  },
  {
   "cell_type": "code",
   "execution_count": 128,
   "metadata": {},
   "outputs": [
    {
     "data": {
      "text/plain": [
       "tensor([-20.])"
      ]
     },
     "execution_count": 128,
     "metadata": {},
     "output_type": "execute_result"
    }
   ],
   "source": [
    "w4.grad.data"
   ]
  },
  {
   "cell_type": "code",
   "execution_count": 129,
   "metadata": {},
   "outputs": [
    {
     "data": {
      "text/plain": [
       "tensor([0.])"
      ]
     },
     "execution_count": 129,
     "metadata": {},
     "output_type": "execute_result"
    }
   ],
   "source": [
    "w4.grad.data.zero_()"
   ]
  },
  {
   "cell_type": "markdown",
   "metadata": {},
   "source": [
    "# Further Reading\n",
    "- [Backprop](http://colah.github.io/posts/2015-08-Backprop/)\n",
    "- [Understanding Graphs and Automatic Differentiation](https://blog.paperspace.com/pytorch-101-understanding-graphs-and-automatic-differentiation/)"
   ]
  },
  {
   "cell_type": "markdown",
   "metadata": {},
   "source": [
    "# Home Work Challenge!"
   ]
  },
  {
   "cell_type": "code",
   "execution_count": 32,
   "metadata": {},
   "outputs": [
    {
     "ename": "AssertionError",
     "evalue": "Stop Here for run through",
     "output_type": "error",
     "traceback": [
      "\u001b[0;31m---------------------------------------------------------------------------\u001b[0m",
      "\u001b[0;31mAssertionError\u001b[0m                            Traceback (most recent call last)",
      "\u001b[0;32m<ipython-input-32-39b4b447d1aa>\u001b[0m in \u001b[0;36m<module>\u001b[0;34m\u001b[0m\n\u001b[0;32m----> 1\u001b[0;31m \u001b[0;32massert\u001b[0m \u001b[0;32mFalse\u001b[0m\u001b[0;34m,\u001b[0m \u001b[0;34m\"Stop Here for run through\"\u001b[0m\u001b[0;34m\u001b[0m\u001b[0;34m\u001b[0m\u001b[0m\n\u001b[0m",
      "\u001b[0;31mAssertionError\u001b[0m: Stop Here for run through"
     ]
    }
   ],
   "source": [
    "assert False, \"Stop Here for run through\""
   ]
  },
  {
   "cell_type": "code",
   "execution_count": 150,
   "metadata": {},
   "outputs": [],
   "source": [
    "import matplotlib\n",
    "import matplotlib.pyplot as plt\n",
    "import numpy as np\n",
    "import torch"
   ]
  },
  {
   "cell_type": "code",
   "execution_count": 159,
   "metadata": {},
   "outputs": [],
   "source": [
    "X = np.random.rand(30, 1)*2.0\n",
    "w = np.random.rand(2, 1)\n",
    "y = X*w[0] + w[1] + np.random.randn(30, 1) * 0.05"
   ]
  },
  {
   "cell_type": "code",
   "execution_count": 160,
   "metadata": {},
   "outputs": [
    {
     "data": {
      "text/plain": [
       "<matplotlib.collections.PathCollection at 0x7f7e07a2ac50>"
      ]
     },
     "execution_count": 160,
     "metadata": {},
     "output_type": "execute_result"
    },
    {
     "data": {
      "image/png": "[encoded data removed]",
      "text/plain": [
       "<Figure size 432x288 with 1 Axes>"
      ]
     },
     "metadata": {
      "needs_background": "light"
     },
     "output_type": "display_data"
    }
   ],
   "source": [
    "plt.scatter(X, y)"
   ]
  },
  {
   "cell_type": "code",
   "execution_count": 170,
   "metadata": {},
   "outputs": [],
   "source": [
    "from torch import FloatTensor\n",
    "from torch.autograd import Variable\n",
    "\n",
    "W = Variable(torch.rand(1, 1), requires_grad=True)\n",
    "b = Variable(torch.rand(1), requires_grad=True)\n",
    "\n",
    "def linear(x):\n",
    "    return x*W + b\n",
    "\n",
    "Xt = Variable(torch.from_numpy(X)).float()\n",
    "yt = Variable(torch.from_numpy(y)).float()"
   ]
  },
  {
   "cell_type": "markdown",
   "metadata": {},
   "source": [
    "### Before Train"
   ]
  },
  {
   "cell_type": "code",
   "execution_count": 171,
   "metadata": {},
   "outputs": [
    {
     "data": {
      "text/plain": [
       "Text(0, 0.5, 'Acc')"
      ]
     },
     "execution_count": 171,
     "metadata": {},
     "output_type": "execute_result"
    },
    {
     "data": {
      "image/png": "[encoded data removed]",
      "text/plain": [
       "<Figure size 432x288 with 1 Axes>"
      ]
     },
     "metadata": {
      "needs_background": "light"
     },
     "output_type": "display_data"
    }
   ],
   "source": [
    "# Before Train\n",
    "fig = plt.figure()\n",
    "plt.scatter(X, y, color='blue')\n",
    "pred = linear(torch.from_numpy(X).float())\n",
    "plt.scatter(X, pred.detach().numpy(), color='red')\n",
    "plt.legend(['Real', 'Hypothesis'], loc='upper right')\n",
    "plt.xlabel('number of training examples seen')\n",
    "plt.ylabel('Acc')"
   ]
  },
  {
   "cell_type": "markdown",
   "metadata": {},
   "source": [
    "### Code Here"
   ]
  },
  {
   "cell_type": "code",
   "execution_count": 168,
   "metadata": {},
   "outputs": [],
   "source": [
    "from torch import FloatTensor\n",
    "from torch.autograd import Variable\n",
    "\n",
    "W = Variable(torch.rand(1, 1), requires_grad=True)\n",
    "b = Variable(torch.rand(1), requires_grad=True)\n",
    "\n",
    "def linear(x):\n",
    "    \"\"\"\n",
    "    Linear Function\n",
    "    \"\"\"\n",
    "    return x*W + b\n",
    "\n",
    "Xt = Variable(torch.from_numpy(X)).float()\n",
    "yt = Variable(torch.from_numpy(y)).float()\n",
    "\n",
    "def criterion(prediction, y):\n",
    "    \"\"\"\n",
    "    Calculate MSE (Mean Square Error) loss between prediction and label y\n",
    "    \"\"\"\n",
    "    return torch.sum((prediction - y)**2)\n",
    "\n",
    "learning_rate = 0.01\n",
    "epochs = 100\n",
    "for i in range(epochs):\n",
    "    prediction = linear(Xt)\n",
    "    loss = criterion(prediction, yt)\n",
    "    # Code Here ################\n",
    "    # Steps :\n",
    "    # 1. Backpropagation the loss\n",
    "    # 2. Update Weights using GD \n",
    "    # 3. Make Gradient Zero\n",
    "    \n",
    "    ############################"
   ]
  },
  {
   "cell_type": "markdown",
   "metadata": {},
   "source": [
    "### After"
   ]
  },
  {
   "cell_type": "code",
   "execution_count": 164,
   "metadata": {},
   "outputs": [
    {
     "data": {
      "text/plain": [
       "Text(0, 0.5, 'Acc')"
      ]
     },
     "execution_count": 164,
     "metadata": {},
     "output_type": "execute_result"
    },
    {
     "data": {
      "image/png": "[encoded data removed]",
      "text/plain": [
       "<Figure size 432x288 with 1 Axes>"
      ]
     },
     "metadata": {
      "needs_background": "light"
     },
     "output_type": "display_data"
    }
   ],
   "source": [
    "# Result After Train\n",
    "fig = plt.figure()\n",
    "plt.scatter(X, y, color='blue')\n",
    "pred = linear(torch.from_numpy(X).float())\n",
    "plt.scatter(X, pred.detach().numpy(), color='red')\n",
    "plt.legend(['Real', 'Hypothesis'], loc='upper right')\n",
    "plt.xlabel('number of training examples seen')\n",
    "plt.ylabel('Acc')"
   ]
  }
 ],
 "metadata": {
  "kernelspec": {
   "display_name": "Python 3",
   "language": "python",
   "name": "python3"
  },
  "language_info": {
   "codemirror_mode": {
    "name": "ipython",
    "version": 3
   },
   "file_extension": ".py",
   "mimetype": "text/x-python",
   "name": "python",
   "nbconvert_exporter": "python",
   "pygments_lexer": "ipython3",
   "version": "3.6.9"
  }
 },
 "nbformat": 4,
 "nbformat_minor": 4
}
